{
 "cells": [
  {
   "cell_type": "code",
   "execution_count": 1,
   "id": "45bb6a41",
   "metadata": {},
   "outputs": [
    {
     "name": "stdout",
     "output_type": "stream",
     "text": [
      "Files in the Background folder:\n",
      "B0eepip4Streams_prompt.root\n",
      "B0eepip4Streams.root\n",
      "B0mumupip4Streams_proc13.root\n",
      "B0eepi04Streams_proc13.root\n",
      "B0eepi04Streams_prompt.root\n",
      "B0mumupi04Streams_proc13.root\n",
      "B0mumupi04Streams.root\n",
      "Bpeepi04Streams_prompt.root\n",
      "Bpeepi04Streams.root\n",
      "Bpeepip4Streams_proc13.root\n",
      "Bpmumupip4Streams_prompt.root\n",
      "Bpmumupip4Streams.root\n",
      "Bpmumupi04Streams_prompt.root\n",
      "Bpmumupi04Streams_proc13.root\n",
      "Bpeepip4Streams_prompt.root\n",
      "Bpmumupi04Streams.root\n",
      "B0eepip4Streams_proc13.root\n",
      "Bpmumupip4Streams_proc13.root\n",
      "Bpeepip4Streams.root\n",
      "B0mumupi04Streams_prompt.root\n",
      "B0eepi04Streams.root\n",
      "B0mumupip4Streams.root\n",
      "Bpeepi04Streams_proc13.root\n",
      "B0mumupip4Streams_prompt.root\n"
     ]
    }
   ],
   "source": [
    "import os\n",
    "\n",
    "# Specify the folder path\n",
    "folder_path = '/pnfs/desy.de/belle/local/user/msobotzi/p5prime/FilesAfterAcceptance/MC15/background/'\n",
    "\n",
    "# Check if the folder exists\n",
    "if os.path.exists(folder_path):\n",
    "    # List all files and directories in the specified folder\n",
    "    items = os.listdir(folder_path)\n",
    "    \n",
    "    # Filter out only files\n",
    "    files = [item for item in items if os.path.isfile(os.path.join(folder_path, item))]\n",
    "    \n",
    "    # Print the names of the files\n",
    "    print('Files in the Background folder:')\n",
    "    for file in files:\n",
    "        print(file)\n",
    "else:\n",
    "    print('The specified folder does not exist.')\n"
   ]
  },
  {
   "cell_type": "code",
   "execution_count": 2,
   "id": "4ffc3a04",
   "metadata": {},
   "outputs": [
    {
     "name": "stdout",
     "output_type": "stream",
     "text": [
      "Files in the Signal folder:\n",
      "B0eepip4Streams.root\n",
      "B0mumupip200000.root\n",
      "B0mumupi04Streams.root\n",
      "B0mumupi0200000.root\n",
      "Bpeepi04Streams.root\n",
      "Bpmumupip4Streams.root\n",
      "Bpmumupi04Streams.root\n",
      "B0eepipTenFold_q2_1.root\n",
      "B0eepipTenFold_q2_2.root\n",
      "B0eepipTenFold_q2_3.root\n",
      "B0eepipTenFold_q2_4.root\n",
      "B0eepip200000.root\n",
      "B0eepi0200000.root\n",
      "Bpeepip4Streams.root\n",
      "Bpmumupip200000.root\n",
      "Bpeepip200000.root\n",
      "Bpmumupi0200000.root\n",
      "B0eepi04Streams.root\n",
      "Bpeepi0200000.root\n",
      "B0mumupip4Streams.root\n"
     ]
    }
   ],
   "source": [
    "import os\n",
    "\n",
    "# Specify the folder path\n",
    "folder_path = '/pnfs/desy.de/belle/local/user/msobotzi/p5prime/FilesAfterAcceptance/MC15/signal/'\n",
    "\n",
    "# Check if the folder exists\n",
    "if os.path.exists(folder_path):\n",
    "    # List all files and directories in the specified folder\n",
    "    items = os.listdir(folder_path)\n",
    "    \n",
    "    # Filter out only files\n",
    "    files = [item for item in items if os.path.isfile(os.path.join(folder_path, item))]\n",
    "    \n",
    "    # Print the names of the files\n",
    "    print('Files in the Signal folder:')\n",
    "    for file in files:\n",
    "        print(file)\n",
    "else:\n",
    "    print('The specified folder does not exist.')\n"
   ]
  },
  {
   "cell_type": "code",
   "execution_count": 3,
   "id": "1cad68af",
   "metadata": {},
   "outputs": [
    {
     "name": "stdout",
     "output_type": "stream",
     "text": [
      "Files in the JPsi_Signal folder:\n",
      "B0eepi0.root\n",
      "Bpeepi0.root\n",
      "Bpmumupi0.root\n",
      "B0mumupi0.root\n",
      "Bpmumupip.root\n",
      "B0eepip.root\n",
      "Bpeepip.root\n",
      "B0mumupip.root\n"
     ]
    }
   ],
   "source": [
    "import os\n",
    "\n",
    "# Specify the folder path\n",
    "folder_path = '/pnfs/desy.de/belle/local/user/msobotzi/jpsi/afterAcceptance/'\n",
    "\n",
    "# Check if the folder exists\n",
    "if os.path.exists(folder_path):\n",
    "    # List all files and directories in the specified folder\n",
    "    items = os.listdir(folder_path)\n",
    "    \n",
    "    # Filter out only files\n",
    "    files = [item for item in items if os.path.isfile(os.path.join(folder_path, item))]\n",
    "    \n",
    "    # Print the names of the files\n",
    "    print('Files in the JPsi_Signal folder:')\n",
    "    for file in files:\n",
    "        print(file)\n",
    "else:\n",
    "    print('The specified folder does not exist.')\n"
   ]
  },
  {
   "cell_type": "code",
   "execution_count": 2,
   "id": "e3c7a432",
   "metadata": {},
   "outputs": [
    {
     "name": "stdout",
     "output_type": "stream",
     "text": [
      "Files in the Background folder:\n",
      "521.root\n",
      "521_pip.root\n",
      "511_pi0.root\n",
      "MC511_pip.root\n",
      "MC521_pi0.root\n",
      "MC511_pi0.root\n",
      "MC521_pip.root\n",
      "511_pip.root\n",
      "521_pi0.root\n",
      "511.root\n"
     ]
    }
   ],
   "source": [
    "import os\n",
    "\n",
    "# Specify the folder path\n",
    "folder_path = '/pnfs/desy.de/belle/local/user/msobotzi/jpsi/afterPreCals/'\n",
    "\n",
    "# Check if the folder exists\n",
    "if os.path.exists(folder_path):\n",
    "    # List all files and directories in the specified folder\n",
    "    items = os.listdir(folder_path)\n",
    "    \n",
    "    # Filter out only files\n",
    "    files = [item for item in items if os.path.isfile(os.path.join(folder_path, item))]\n",
    "    \n",
    "    # Print the names of the files\n",
    "    print('Files in the Background folder:')\n",
    "    for file in files:\n",
    "        print(file)\n",
    "else:\n",
    "    print('The specified folder does not exist.')\n"
   ]
  },
  {
   "cell_type": "code",
   "execution_count": null,
   "id": "15a41d1d",
   "metadata": {},
   "outputs": [],
   "source": []
  }
 ],
 "metadata": {
  "kernelspec": {
   "display_name": "Python 3 (ipykernel)",
   "language": "python",
   "name": "python3"
  },
  "language_info": {
   "codemirror_mode": {
    "name": "ipython",
    "version": 3
   },
   "file_extension": ".py",
   "mimetype": "text/x-python",
   "name": "python",
   "nbconvert_exporter": "python",
   "pygments_lexer": "ipython3",
   "version": "3.12.1"
  }
 },
 "nbformat": 4,
 "nbformat_minor": 5
}
