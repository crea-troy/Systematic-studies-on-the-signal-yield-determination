{
 "cells": [
  {
   "cell_type": "code",
   "execution_count": 1,
   "id": "469fcd5b",
   "metadata": {},
   "outputs": [
    {
     "name": "stderr",
     "output_type": "stream",
     "text": [
      "/afs/desy.de/user/j/jipatel/.local/lib/python3.8/site-packages/zfit/__init__.py:63: UserWarning: TensorFlow warnings are by default suppressed by zfit. In order to show them, set the environment variable ZFIT_DISABLE_TF_WARNINGS=0. In order to suppress the TensorFlow warnings AND this warning, set ZFIT_DISABLE_TF_WARNINGS=1.\n",
      "  warnings.warn(\n"
     ]
    }
   ],
   "source": [
    "import pandas as pd\n",
    "import uproot\n",
    "import numpy as np\n",
    "import matplotlib.pyplot as plt\n",
    "from scipy.stats import crystalball\n",
    "from scipy.optimize import curve_fit,Bounds\n",
    "import zfit_physics as zphysics\n",
    "import zfit\n",
    "from mpl_toolkits.axes_grid1 import make_axes_locatable\n",
    "import matplotlib.pyplot as plt\n",
    "import mplhep\n",
    "import uncertainties as unc\n",
    "plt.style.use('belle2')\n",
    "#%jsroot on\n",
    "\n",
    "#%run functins.ipynb"
   ]
  },
  {
   "cell_type": "code",
   "execution_count": 2,
   "id": "02d3fcc0",
   "metadata": {},
   "outputs": [],
   "source": [
    "file_bkg=\"/pnfs/desy.de/belle/local/user/msobotzi/p5prime/FilesAfterAcceptance/MC15/background/B0eepip4Streams.root\"\n",
    "#file_signal=\"/pnfs/desy.de/belle/local/user/msobotzi/p5prime/FilesAfterAcceptance/MC15/signal/B0eepip200000.root\"\n",
    "\n",
    "file_rec_jpsi=\"/pnfs/desy.de/belle/local/user/msobotzi/jpsi/afterAcceptance/B0eepip.root\"\n",
    "file_gen_jpsi=\"/pnfs/desy.de/belle/local/user/msobotzi/jpsi/afterPreCals/MC511_pip.root\"\n"
   ]
  },
  {
   "cell_type": "code",
   "execution_count": 3,
   "id": "2777351b",
   "metadata": {},
   "outputs": [],
   "source": [
    "df_gen = uproot.open(f\"{file_gen_jpsi}:rec511\")\n",
    "df_rec = uproot.open(f\"{file_rec_jpsi}:rec511\")\n",
    "df_bkg = uproot.open(f\"{file_bkg}:rec511\")\n",
    "\n",
    "df_gen_ele = df_gen.arrays(library='pd')\n",
    "df_rec_ele = df_rec.arrays(library='pd')\n",
    "df_bkg_ele = df_bkg.arrays(library='pd')\n",
    "mc_cut = df_rec_ele.query('NNPass==1')\n",
    "mc_cut_best_candidate = mc_cut.query('bestCandidate == 1')\n",
    "\n",
    "\n",
    "\n"
   ]
  },
  {
   "cell_type": "code",
   "execution_count": 4,
   "id": "3cc72d7c",
   "metadata": {},
   "outputs": [
    {
     "name": "stdout",
     "output_type": "stream",
     "text": [
      "9847\n",
      "14221\n"
     ]
    }
   ],
   "source": [
    "# Define the main cut condition\n",
    "cut = \"lm_genMotherPDG == 443 and lp_genMotherPDG == 443 and abs(Kst_genMotherPDG) == 511 and Kst_isSignal == 1 and abs(lm_PDG) == 11 and abs(lp_PDG) == 11 and lm_genMotherPDG_1 == Kst_genMotherPDG\"\n",
    "\n",
    "# Define additional conditions as a list\n",
    "additional_conditions = ['NNPass == 1 ', 'bestCandidate == 1']\n",
    "\n",
    "# Convert the list of additional conditions into a single string\n",
    "additional_conditions_str = ' and '.join(additional_conditions)\n",
    "\n",
    "# Concatenate the main cut with the additional conditions\n",
    "cutRec = cut + ' and ' + additional_conditions_str\n",
    "\n",
    "# Apply the cuts to your dataframes\n",
    "df_gen_ele = df_gen_ele.query(cut)\n",
    "df_rec_ele = df_rec_ele.query(cutRec)\n",
    "df_bkg_ele = df_bkg_ele.query(cutRec)\n",
    "\n",
    "# Print the lengths of the resulting dataframes\n",
    "print(len(df_rec_ele))\n",
    "print(len(df_bkg_ele))\n"
   ]
  },
  {
   "cell_type": "code",
   "execution_count": 5,
   "id": "0922ee1e",
   "metadata": {},
   "outputs": [],
   "source": [
    "jpsiPDG = 443\n",
    "kstPDG = 313\n",
    "kPDG =311\n",
    "cut= [f'l1_genMotherPDG == {jpsiPDG}',f'  Kst_isSignal== 1','  l1_genMotherPDG_1 == Kst_genMotherPDG',' abs(Kst_genMotherPDG)==511 ',' abs(Kst_pi_mcPDG) == 211 ',f' abs(Kst_K_isSignal) == 1 ',' abs(l1_mcPDG) == 11']\n"
   ]
  },
  {
   "cell_type": "code",
   "execution_count": 6,
   "id": "7d02f920",
   "metadata": {},
   "outputs": [],
   "source": [
    "electrons_gen = df_gen_ele[(df_gen_ele['lp_PDG'] == 11) | (df_gen_ele['lm_PDG'] == 11)]\n"
   ]
  },
  {
   "cell_type": "code",
   "execution_count": 7,
   "id": "2ca4e838",
   "metadata": {},
   "outputs": [
    {
     "name": "stdout",
     "output_type": "stream",
     "text": [
      "48535\n"
     ]
    }
   ],
   "source": [
    "#print(len(electrons_gen.query('abs(deltaE) < 0.15 and Mbc > 5.27')))\n",
    "print(len(electrons_gen))"
   ]
  },
  {
   "cell_type": "code",
   "execution_count": 8,
   "id": "296202b6",
   "metadata": {},
   "outputs": [],
   "source": [
    "cutRec = cut + ['NNPass == 1 ',' bestCandidate ==1']"
   ]
  },
  {
   "cell_type": "code",
   "execution_count": 9,
   "id": "b067f401",
   "metadata": {},
   "outputs": [
    {
     "name": "stdout",
     "output_type": "stream",
     "text": [
      "9847\n",
      "14220\n"
     ]
    }
   ],
   "source": [
    "for c in cut:\n",
    "    df_gen_ele = df_gen_ele.query(c)\n",
    "for c in cutRec:\n",
    "    df_rec_ele = df_rec_ele.query(c)\n",
    "    df_bkg_ele = df_bkg_ele.query(c)\n",
    "print(len(df_rec_ele))\n",
    "print(len(df_bkg_ele))"
   ]
  },
  {
   "cell_type": "code",
   "execution_count": 19,
   "id": "b79002e5",
   "metadata": {},
   "outputs": [
    {
     "name": "stdout",
     "output_type": "stream",
     "text": [
      "No.BB* mesons: 787786560.0\n",
      "14111.911286182461\n",
      "0.20110030209294616\n",
      "B _to_JPsi_and_K*_for_electron_Branching_ratio_from_fit_without_weight: 0.001122+/-0.000006\n",
      "B _to_JPsi_and_K*_Branching_ratio_from_PDG: 0.00127+/-0.00005\n",
      "70173.49620718176\n"
     ]
    }
   ],
   "source": [
    "efficiency=df_rec_ele['weights'].sum()/len(df_gen_ele)\n",
    "N_Rect_signal =df_bkg_ele['weights'].sum()\n",
    "\n",
    "from uncertainties import ufloat\n",
    "\n",
    "cross_section_nb = 0.5346e-9  # Cross-section in nanobarns\n",
    "luminosity_nb = 368.4e+15  # Luminosity in femtobarns\n",
    "\n",
    "N_bb_mesons=cross_section_nb * (4*luminosity_nb)\n",
    "\n",
    "print(\"No.BB* mesons:\",N_bb_mesons)\n",
    "\n",
    "\n",
    "B_JPsi_to_ll = ufloat(5.971, 0.032) / 100  \n",
    "B_K_to_K_pi = (ufloat(99.754, 0.021) / 100) * 2 / 3  # Divide by 100 and then multiply by 2/3\n",
    "\n",
    "BR_MC = N_Rect_signal/ ((2*N_bb_mesons)*B_JPsi_to_ll*B_K_to_K_pi*efficiency)\n",
    "\n",
    "BR_PDG=unc.ufloat(1.270e-3, 0.05e-3)\n",
    "print(N_Rect_signal)\n",
    "print(efficiency)\n",
    "print(\"B _to_JPsi_and_K*_for_electron_Branching_ratio_from_fit_without_weight:\",BR_MC)\n",
    "print(\"B _to_JPsi_and_K*_Branching_ratio_from_PDG:\",BR_PDG)\n",
    "\n",
    "ef=N_Rect_signal/efficiency\n",
    "print(ef)"
   ]
  },
  {
   "cell_type": "code",
   "execution_count": 13,
   "id": "67945e6d",
   "metadata": {},
   "outputs": [
    {
     "name": "stdout",
     "output_type": "stream",
     "text": [
      "No.BB* mesons: 787786560.0\n",
      "63356.85458789751\n",
      "0.20110030209294616\n",
      "B _to_JPsi_and_K*_for_electron_Branching_ratio_from_fit_without_weight: 0.001013+/-0.000005\n",
      "B _to_JPsi_and_K*_Branching_ratio_from_PDG: 0.00127+/-0.00005\n"
     ]
    }
   ],
   "source": [
    "N_Rect_signal  =df_bkg_ele['PIDCorrectionAndAcceptanceWeight'].sum()\n",
    "\n",
    "from uncertainties import ufloat\n",
    "\n",
    "cross_section_nb = 0.5346e-9  # Cross-section in nanobarns\n",
    "luminosity_nb = 368.4e+15  # Luminosity in femtobarns\n",
    "\n",
    "N_bb_mesons=cross_section_nb * (4*luminosity_nb)\n",
    "\n",
    "print(\"No.BB* mesons:\",N_bb_mesons)\n",
    "\n",
    "\n",
    "B_JPsi_to_ll = ufloat(5.971, 0.032) / 100  \n",
    "B_K_to_K_pi = (ufloat(99.754, 0.021) / 100) * 2 / 3  # Divide by 100 and then multiply by 2/3\n",
    "\n",
    "BR_MC = N_Rect_signal/ ((2*N_bb_mesons)*B_JPsi_to_ll*B_K_to_K_pi)\n",
    "\n",
    "BR_PDG=unc.ufloat(1.270e-3, 0.05e-3)\n",
    "print(N_Rect_signal)\n",
    "print(efficiency)\n",
    "print(\"B _to_JPsi_and_K*_for_electron_Branching_ratio_from_fit_without_weight:\",BR_MC)\n",
    "print(\"B _to_JPsi_and_K*_Branching_ratio_from_PDG:\",BR_PDG)\n"
   ]
  },
  {
   "cell_type": "code",
   "execution_count": 23,
   "id": "a16ffd7c",
   "metadata": {},
   "outputs": [
    {
     "name": "stdout",
     "output_type": "stream",
     "text": [
      "43106\n",
      "9468\n",
      "13500\n"
     ]
    }
   ],
   "source": [
    "Ecut_ele_gen = electrons_gen.query('deltaE >= -0.15 and deltaE <= 0.3')\n",
    "Ecut_ele_rec = df_rec_ele.query('deltaE >= -0.15 and deltaE <= 0.3')\n",
    "Ecut_ele_bkg = df_bkg_ele.query('(deltaE) >= -0.15 and deltaE <= 0.3')\n",
    "\n",
    "\n",
    "print(len(Ecut_ele_gen))\n",
    "print(len(Ecut_ele_rec))\n",
    "print(len(Ecut_ele_bkg))"
   ]
  },
  {
   "cell_type": "code",
   "execution_count": 24,
   "id": "d95808c4",
   "metadata": {},
   "outputs": [
    {
     "name": "stdout",
     "output_type": "stream",
     "text": [
      "No.BB* mesons: 787786560.0\n",
      "13400.388279018027\n",
      "0.21775311486418136\n",
      "B _to_JPsi_and_K*_for_electron_Branching_ratio_from_fit_without_weight: 0.000984+/-0.000005\n",
      "B _to_JPsi_and_K*_Branching_ratio_from_PDG: 0.00127+/-0.00005\n",
      "61539.36437316279\n"
     ]
    }
   ],
   "source": [
    "from uncertainties import ufloat\n",
    "\n",
    "cross_section_nb = 0.5346e-9  # Cross-section in nanobarns\n",
    "luminosity_nb = 368.4e+15  # Luminosity in femtobarns\n",
    "\n",
    "N_bb_mesons=cross_section_nb * (4*luminosity_nb)\n",
    "\n",
    "print(\"No.BB* mesons:\",N_bb_mesons)\n",
    "\n",
    "efficiency=Ecut_ele_rec['weights'].sum()/len(Ecut_ele_gen)\n",
    "N_Rect_signal =Ecut_ele_bkg['weights'].sum()\n",
    "\n",
    "B_JPsi_to_ll = ufloat(5.971, 0.032) / 100  \n",
    "B_K_to_K_pi = (ufloat(99.754, 0.021) / 100) * 2 / 3  # Divide by 100 and then multiply by 2/3\n",
    "\n",
    "BR_MC = N_Rect_signal/ ((2*N_bb_mesons)*B_JPsi_to_ll*B_K_to_K_pi*efficiency)\n",
    "\n",
    "BR_PDG=unc.ufloat(1.270e-3, 0.05e-3)\n",
    "print(N_Rect_signal)\n",
    "print(efficiency)\n",
    "print(\"B _to_JPsi_and_K*_for_electron_Branching_ratio_from_fit_without_weight:\",BR_MC)\n",
    "print(\"B _to_JPsi_and_K*_Branching_ratio_from_PDG:\",BR_PDG)\n",
    "\n",
    "ef=N_Rect_signal/efficiency\n",
    "print(ef)"
   ]
  },
  {
   "cell_type": "code",
   "execution_count": 25,
   "id": "003af31e",
   "metadata": {},
   "outputs": [
    {
     "name": "stdout",
     "output_type": "stream",
     "text": [
      "No.BB* mesons: 787786560.0\n",
      "60172.244358291064\n",
      "0.21775311486418136\n",
      "B _to_JPsi_and_K*_for_electron_Branching_ratio_from_fit_without_weight: 0.000962+/-0.000005\n",
      "B _to_JPsi_and_K*_Branching_ratio_from_PDG: 0.00127+/-0.00005\n"
     ]
    }
   ],
   "source": [
    "N_Rect_signal  =Ecut_ele_bkg['PIDCorrectionAndAcceptanceWeight'].sum()\n",
    "\n",
    "from uncertainties import ufloat\n",
    "\n",
    "cross_section_nb = 0.5346e-9  # Cross-section in nanobarns\n",
    "luminosity_nb = 368.4e+15  # Luminosity in femtobarns\n",
    "\n",
    "N_bb_mesons=cross_section_nb * (4*luminosity_nb)\n",
    "\n",
    "print(\"No.BB* mesons:\",N_bb_mesons)\n",
    "\n",
    "\n",
    "B_JPsi_to_ll = ufloat(5.971, 0.032) / 100  \n",
    "B_K_to_K_pi = (ufloat(99.754, 0.021) / 100) * 2 / 3  # Divide by 100 and then multiply by 2/3\n",
    "\n",
    "BR_MC = N_Rect_signal/ ((2*N_bb_mesons)*B_JPsi_to_ll*B_K_to_K_pi)\n",
    "\n",
    "BR_PDG=unc.ufloat(1.270e-3, 0.05e-3)\n",
    "print(N_Rect_signal)\n",
    "print(efficiency)\n",
    "print(\"B _to_JPsi_and_K*_for_electron_Branching_ratio_from_fit_without_weight:\",BR_MC)\n",
    "print(\"B _to_JPsi_and_K*_Branching_ratio_from_PDG:\",BR_PDG)\n",
    "\n",
    "\n"
   ]
  },
  {
   "cell_type": "code",
   "execution_count": 17,
   "id": "f3ec0a61",
   "metadata": {},
   "outputs": [
    {
     "name": "stdout",
     "output_type": "stream",
     "text": [
      "1845\n",
      "379\n",
      "720\n",
      "711.5230071644355\n",
      "0.2026760936291271\n",
      "3184.6102296064437\n"
     ]
    }
   ],
   "source": [
    "Ecut_ele_gen = electrons_gen.query('deltaE >= -0.3 and deltaE <= -0.15')\n",
    "Ecut_ele_rec = df_rec_ele.query('deltaE >= -0.3 and deltaE <= -0.15')\n",
    "Ecut_ele_bkg = df_bkg_ele.query('(deltaE) >= -0.3 and deltaE <= -0.15')\n",
    "\n",
    "\n",
    "print(len(Ecut_ele_gen))\n",
    "print(len(Ecut_ele_rec))\n",
    "print(len(Ecut_ele_bkg))\n",
    "\n",
    "\n",
    "efficiency=Ecut_ele_rec['weights'].sum()/len(Ecut_ele_gen)\n",
    "N_Rect_signal_w =Ecut_ele_bkg['weights'].sum()\n",
    "\n",
    "N_Rect_signal  =Ecut_ele_bkg['PIDCorrectionAndAcceptanceWeight'].sum()\n",
    "\n",
    "\n",
    "print(N_Rect_signal_w)\n",
    "print(efficiency)\n",
    "print(N_Rect_signal)\n"
   ]
  },
  {
   "cell_type": "code",
   "execution_count": null,
   "id": "134947cf",
   "metadata": {},
   "outputs": [],
   "source": []
  }
 ],
 "metadata": {
  "kernelspec": {
   "display_name": "Python 3 (ipykernel)",
   "language": "python",
   "name": "python3"
  },
  "language_info": {
   "codemirror_mode": {
    "name": "ipython",
    "version": 3
   },
   "file_extension": ".py",
   "mimetype": "text/x-python",
   "name": "python",
   "nbconvert_exporter": "python",
   "pygments_lexer": "ipython3",
   "version": "3.8.8"
  }
 },
 "nbformat": 4,
 "nbformat_minor": 5
}
