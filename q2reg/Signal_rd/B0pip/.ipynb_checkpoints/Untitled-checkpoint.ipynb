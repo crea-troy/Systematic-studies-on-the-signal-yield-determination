{
 "cells": [
  {
   "cell_type": "code",
   "execution_count": null,
   "id": "7fa2bb7d",
   "metadata": {},
   "outputs": [],
   "source": [
    "import pandas as pd\n",
    "import uproot\n",
    "import numpy as np\n",
    "import matplotlib.pyplot as plt\n",
    "from scipy.stats import crystalball\n",
    "from scipy.optimize import curve_fit,Bounds\n",
    "from scipy.integrate import simps\n",
    "import zfit_physics as zphysics\n",
    "import zfit\n",
    "from mpl_toolkits.axes_grid1 import make_axes_locatable\n",
    "import matplotlib.pyplot as plt\n",
    "import mplhep\n",
    "import uncertainties \n",
    "from uncertainties import ufloat\n",
    "import tensorflow as tf\n",
    "\n",
    "plt.style.use('belle2')\n",
    "#%jsroot on\n",
    "\n",
    "\n",
    "%run /afs/desy.de/user/j/jipatel/MT/MC_fit/Files_After_Acceptance/Signal_Background_thesis_final/Function.ipynb"
   ]
  },
  {
   "cell_type": "code",
   "execution_count": null,
   "id": "b1072737",
   "metadata": {},
   "outputs": [],
   "source": [
    "file_bkg_ele=\"/pnfs/desy.de/belle/local/user/msobotzi/p5prime/FilesAfterAcceptance/MC15/background/B0eepip4Streams.root\"\n",
    "file_signal_ele=\"/pnfs/desy.de/belle/local/user/msobotzi/p5prime/FilesAfterAcceptance/MC15/signal/B0eepip4Streams.root\"\n"
   ]
  },
  {
   "cell_type": "code",
   "execution_count": null,
   "id": "1c618b2b",
   "metadata": {},
   "outputs": [],
   "source": [
    "mc_ele_signal,mc_ele_only_signal,mc_ele_scf,mc_ele_bkg, mc_ele_signal_weight,mc_ele_only_signal_weight,mc_ele_scf_weight,mc_ele_bkg_weight = process_MC_data_combined(file_signal_ele, file_bkg_ele, 'ele', '511', 'pip', 'ee', 0, 'rec511','PIDCorrectionAndAcceptanceWeight')\n"
   ]
  }
 ],
 "metadata": {
  "kernelspec": {
   "display_name": "Python 3 (ipykernel)",
   "language": "python",
   "name": "python3"
  },
  "language_info": {
   "codemirror_mode": {
    "name": "ipython",
    "version": 3
   },
   "file_extension": ".py",
   "mimetype": "text/x-python",
   "name": "python",
   "nbconvert_exporter": "python",
   "pygments_lexer": "ipython3",
   "version": "3.8.8"
  }
 },
 "nbformat": 4,
 "nbformat_minor": 5
}
